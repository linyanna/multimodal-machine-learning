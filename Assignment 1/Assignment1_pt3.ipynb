{
 "cells": [
  {
   "cell_type": "code",
   "execution_count": 1,
   "metadata": {},
   "outputs": [],
   "source": [
    "import numpy as np\n",
    "import pandas as pd\n",
    "import seaborn as sns\n",
    "import matplotlib.pyplot as plt"
   ]
  },
  {
   "attachments": {},
   "cell_type": "markdown",
   "metadata": {},
   "source": [
    "# Read and check data"
   ]
  },
  {
   "cell_type": "code",
   "execution_count": 3,
   "metadata": {},
   "outputs": [
    {
     "data": {
      "text/html": [
       "<div>\n",
       "<style scoped>\n",
       "    .dataframe tbody tr th:only-of-type {\n",
       "        vertical-align: middle;\n",
       "    }\n",
       "\n",
       "    .dataframe tbody tr th {\n",
       "        vertical-align: top;\n",
       "    }\n",
       "\n",
       "    .dataframe thead th {\n",
       "        text-align: right;\n",
       "    }\n",
       "</style>\n",
       "<table border=\"1\" class=\"dataframe\">\n",
       "  <thead>\n",
       "    <tr style=\"text-align: right;\">\n",
       "      <th></th>\n",
       "      <th>Purchase</th>\n",
       "      <th>SUS</th>\n",
       "      <th>Duration</th>\n",
       "      <th>Gender</th>\n",
       "      <th>ASR_Error</th>\n",
       "      <th>Intent_Error</th>\n",
       "    </tr>\n",
       "  </thead>\n",
       "  <tbody>\n",
       "    <tr>\n",
       "      <th>0</th>\n",
       "      <td>1</td>\n",
       "      <td>84</td>\n",
       "      <td>254</td>\n",
       "      <td>0</td>\n",
       "      <td>3</td>\n",
       "      <td>2</td>\n",
       "    </tr>\n",
       "    <tr>\n",
       "      <th>1</th>\n",
       "      <td>0</td>\n",
       "      <td>58</td>\n",
       "      <td>247</td>\n",
       "      <td>0</td>\n",
       "      <td>6</td>\n",
       "      <td>9</td>\n",
       "    </tr>\n",
       "    <tr>\n",
       "      <th>2</th>\n",
       "      <td>0</td>\n",
       "      <td>56</td>\n",
       "      <td>125</td>\n",
       "      <td>1</td>\n",
       "      <td>6</td>\n",
       "      <td>8</td>\n",
       "    </tr>\n",
       "    <tr>\n",
       "      <th>3</th>\n",
       "      <td>0</td>\n",
       "      <td>55</td>\n",
       "      <td>22</td>\n",
       "      <td>0</td>\n",
       "      <td>11</td>\n",
       "      <td>7</td>\n",
       "    </tr>\n",
       "    <tr>\n",
       "      <th>4</th>\n",
       "      <td>1</td>\n",
       "      <td>95</td>\n",
       "      <td>262</td>\n",
       "      <td>0</td>\n",
       "      <td>2</td>\n",
       "      <td>3</td>\n",
       "    </tr>\n",
       "  </tbody>\n",
       "</table>\n",
       "</div>"
      ],
      "text/plain": [
       "   Purchase  SUS  Duration  Gender  ASR_Error  Intent_Error\n",
       "0         1   84       254       0          3             2\n",
       "1         0   58       247       0          6             9\n",
       "2         0   56       125       1          6             8\n",
       "3         0   55        22       0         11             7\n",
       "4         1   95       262       0          2             3"
      ]
     },
     "execution_count": 3,
     "metadata": {},
     "output_type": "execute_result"
    }
   ],
   "source": [
    "df = pd.read_csv('data.csv')\n",
    "df.head(5)"
   ]
  },
  {
   "cell_type": "code",
   "execution_count": 4,
   "metadata": {},
   "outputs": [
    {
     "data": {
      "text/plain": [
       "Purchase        0\n",
       "SUS             0\n",
       "Duration        0\n",
       "Gender          0\n",
       "ASR_Error       0\n",
       "Intent_Error    0\n",
       "dtype: int64"
      ]
     },
     "execution_count": 4,
     "metadata": {},
     "output_type": "execute_result"
    }
   ],
   "source": [
    "df.isna().sum()"
   ]
  },
  {
   "attachments": {},
   "cell_type": "markdown",
   "metadata": {},
   "source": [
    "# See distribution of Purchases"
   ]
  },
  {
   "cell_type": "code",
   "execution_count": 16,
   "metadata": {},
   "outputs": [
    {
     "name": "stderr",
     "output_type": "stream",
     "text": [
      "/var/folders/5k/sjwwd0rj5cx9swsd9y1mfdzm0000gn/T/ipykernel_65473/797648368.py:2: UserWarning: Ignoring `palette` because no `hue` variable has been assigned.\n",
      "  sns.histplot(data=df['Purchase'], palette='bright')\n"
     ]
    },
    {
     "data": {
      "image/png": "[encoded data removed]",
      "text/plain": [
       "<Figure size 640x480 with 1 Axes>"
      ]
     },
     "metadata": {},
     "output_type": "display_data"
    }
   ],
   "source": [
    "# histogram of System Usability Survery (SUS) score\n",
    "sns.histplot(data=df['Purchase'], palette='bright')\n",
    "plt.show()"
   ]
  },
  {
   "attachments": {},
   "cell_type": "markdown",
   "metadata": {},
   "source": [
    "# Prep and label data for model training"
   ]
  },
  {
   "cell_type": "code",
   "execution_count": 17,
   "metadata": {},
   "outputs": [
    {
     "data": {
      "text/plain": [
       "array([1, 0, 0, 0, 1, 0, 0, 0, 0, 0, 0, 1, 0, 1, 1, 0, 1, 1, 1, 0, 0, 0,\n",
       "       1, 1, 0, 1, 0, 1, 0, 0, 0, 0, 1, 1, 1, 1, 0, 1, 1, 1, 0, 1, 1, 1,\n",
       "       1, 1, 1, 1, 1, 1, 0, 0, 1, 0, 1, 0, 1, 0, 1, 0, 1, 0, 0, 0, 0, 0,\n",
       "       0, 0, 1, 1, 1, 1, 1, 1, 0, 0, 0, 0, 0, 0, 0, 0, 0, 0, 1, 0, 1, 1,\n",
       "       1, 0, 0, 1, 1, 1, 0, 0, 1, 0, 1, 1])"
      ]
     },
     "execution_count": 17,
     "metadata": {},
     "output_type": "execute_result"
    }
   ],
   "source": [
    "# label\n",
    "y = df['Purchase'].to_numpy()\n",
    "y"
   ]
  },
  {
   "cell_type": "code",
   "execution_count": 18,
   "metadata": {},
   "outputs": [
    {
     "data": {
      "text/plain": [
       "array([[ 84, 254,   0,   3,   2],\n",
       "       [ 58, 247,   0,   6,   9],\n",
       "       [ 56, 125,   1,   6,   8],\n",
       "       [ 55,  22,   0,  11,   7],\n",
       "       [ 95, 262,   0,   2,   3],\n",
       "       [ 71, 113,   1,   8,   9],\n",
       "       [ 76,  91,   1,   6,   3],\n",
       "       [ 64,  46,   0,   6,  11],\n",
       "       [ 56, 132,   0,   9,   9],\n",
       "       [ 96, 190,   0,  11,   4],\n",
       "       [ 56, 146,   0,   9,   7],\n",
       "       [ 80, 226,   0,   4,   4],\n",
       "       [ 72,  54,   1,   7,   9],\n",
       "       [ 81, 104,   0,   2,   3],\n",
       "       [ 72, 292,   0,   7,   3],\n",
       "       [ 66, 126,   0,   8,   9],\n",
       "       [ 89, 152,   1,   3,   5],\n",
       "       [ 80, 221,   0,   3,   4],\n",
       "       [ 66,  51,   0,   9,   9],\n",
       "       [ 74, 230,   0,   6,   8],\n",
       "       [ 74,  72,   1,   6,   8],\n",
       "       [ 68, 284,   0,   6,  11],\n",
       "       [ 96, 168,   0,   2,   4],\n",
       "       [ 98, 194,   0,   1,   3],\n",
       "       [ 86, 130,   1,  10,   1],\n",
       "       [ 58, 227,   0,   9,   3],\n",
       "       [ 75, 161,   1,   7,   8],\n",
       "       [ 86, 262,   1,   2,   3],\n",
       "       [ 65, 257,   1,   9,  11],\n",
       "       [ 80,  57,   1,   8,   3],\n",
       "       [ 68, 138,   0,   8,   9],\n",
       "       [ 81,  33,   1,   9,   4],\n",
       "       [ 95, 260,   0,   1,   2],\n",
       "       [ 82, 178,   1,   3,   4],\n",
       "       [ 95, 153,   0,   2,   4],\n",
       "       [ 87, 151,   0,   2,   3],\n",
       "       [ 69,  67,   0,   8,   9],\n",
       "       [ 86, 284,   1,   2,   2],\n",
       "       [ 98,  96,   1,   3,   1],\n",
       "       [ 98,  31,   0,   1,   3],\n",
       "       [ 50, 100,   0,  12,   9],\n",
       "       [ 86, 200,   0,   2,   3],\n",
       "       [ 98,  24,   1,   1,   2],\n",
       "       [ 95, 169,   0,   1,   3],\n",
       "       [ 80, 110,   0,   1,   3],\n",
       "       [ 86, 184,   1,   2,   3],\n",
       "       [ 86, 234,   1,   2,   5],\n",
       "       [ 82,  90,   1,   5,   3],\n",
       "       [ 87, 202,   1,   3,   3],\n",
       "       [ 84, 254,   0,   3,   3],\n",
       "       [ 60, 259,   0,   9,   6],\n",
       "       [ 92, 193,   1,  11,   5],\n",
       "       [ 80, 258,   0,   6,   5],\n",
       "       [ 56, 117,   1,   6,   7],\n",
       "       [ 81, 297,   1,   3,   4],\n",
       "       [ 50, 218,   1,  12,   9],\n",
       "       [ 56, 119,   0,   0,   8],\n",
       "       [ 70,  54,   1,   8,   6],\n",
       "       [ 80, 143,   1,   0,   4],\n",
       "       [ 58, 300,   1,   9,  11],\n",
       "       [ 88,  43,   0,   3,   4],\n",
       "       [ 40,  28,   0,   7,   6],\n",
       "       [ 57, 357,   1,   9,   4],\n",
       "       [ 70,  21,   0,  13,   7],\n",
       "       [ 65, 100,   0,   7,   9],\n",
       "       [ 76, 303,   1,   9,   8],\n",
       "       [ 55,  56,   1,   6,  10],\n",
       "       [ 73, 205,   0,   5,  12],\n",
       "       [ 87, 104,   0,   4,   1],\n",
       "       [ 90, 342,   0,   1,   3],\n",
       "       [ 78,  78,   0,   3,   2],\n",
       "       [ 75,  56,   0,   6,   5],\n",
       "       [ 80, 297,   1,   2,   1],\n",
       "       [ 90,  56,   0,   5,   4],\n",
       "       [ 85, 365,   0,   4,   3],\n",
       "       [ 75, 275,   0,  11,   6],\n",
       "       [ 43, 198,   1,   9,   9],\n",
       "       [ 57, 224,   0,  12,  12],\n",
       "       [ 65, 326,   0,   7,   7],\n",
       "       [ 55,  23,   0,  14,   9],\n",
       "       [ 71,  78,   1,   9,  10],\n",
       "       [ 67, 108,   0,   6,  11],\n",
       "       [ 43, 326,   0,  13,   7],\n",
       "       [ 59,  61,   0,  10,   8],\n",
       "       [ 70,  48,   1,   1,   5],\n",
       "       [ 63,  90,   0,  11,   4],\n",
       "       [ 89,  87,   1,   0,   1],\n",
       "       [ 90,  65,   1,   2,   2],\n",
       "       [ 92,  22,   1,   3,   0],\n",
       "       [ 64,  10,   1,   9,   9],\n",
       "       [ 66,  45,   0,   5,   8],\n",
       "       [ 83,  69,   1,   4,   0],\n",
       "       [ 80,  57,   0,   1,   1],\n",
       "       [ 92, 208,   1,   0,   4],\n",
       "       [ 65, 197,   0,  11,  10],\n",
       "       [ 57, 358,   0,  13,   7],\n",
       "       [ 93,  71,   0,   3,   0],\n",
       "       [ 80,  34,   1,   0,   9],\n",
       "       [ 82,  49,   1,   4,   1],\n",
       "       [ 78, 213,   0,   1,   4]])"
      ]
     },
     "execution_count": 18,
     "metadata": {},
     "output_type": "execute_result"
    }
   ],
   "source": [
    "X = df.drop('Purchase', axis = 1).to_numpy()\n",
    "X"
   ]
  },
  {
   "attachments": {},
   "cell_type": "markdown",
   "metadata": {},
   "source": [
    "# Data Scaling"
   ]
  },
  {
   "cell_type": "code",
   "execution_count": 11,
   "metadata": {},
   "outputs": [],
   "source": [
    "from sklearn.preprocessing import StandardScaler\n",
    "from sklearn import linear_model\n",
    "from sklearn.model_selection import train_test_split\n",
    "\n",
    "scale = StandardScaler()\n",
    "scaled_X = scale.fit_transform(X)\n",
    "\n",
    "X_train, X_test, y_train, y_test = train_test_split(scaled_X, y, test_size = 0.3)"
   ]
  },
  {
   "attachments": {},
   "cell_type": "markdown",
   "metadata": {},
   "source": [
    "# Import Classifiers and Metrics from Sklearn"
   ]
  },
  {
   "cell_type": "code",
   "execution_count": 12,
   "metadata": {},
   "outputs": [],
   "source": [
    "from sklearn.linear_model import LogisticRegression\n",
    "from sklearn.neighbors import KNeighborsClassifier\n",
    "from sklearn.svm import SVC\n",
    "from sklearn.naive_bayes import GaussianNB\n",
    "from sklearn.ensemble import RandomForestClassifier\n",
    "from sklearn.metrics import ConfusionMatrixDisplay, confusion_matrix, roc_curve, auc, classification_report"
   ]
  },
  {
   "cell_type": "code",
   "execution_count": 13,
   "metadata": {},
   "outputs": [],
   "source": [
    "lc = LogisticRegression()\n",
    "neigh = KNeighborsClassifier(n_neighbors=3)\n",
    "svc = SVC(probability=True)\n",
    "nbc = GaussianNB()\n",
    "rfc = RandomForestClassifier()"
   ]
  },
  {
   "attachments": {},
   "cell_type": "markdown",
   "metadata": {},
   "source": [
    "# Train ML model with training dataset with model.fit() function"
   ]
  },
  {
   "cell_type": "code",
   "execution_count": 14,
   "metadata": {},
   "outputs": [
    {
     "data": {
      "text/plain": [
       "RandomForestClassifier()"
      ]
     },
     "execution_count": 14,
     "metadata": {},
     "output_type": "execute_result"
    }
   ],
   "source": [
    "lc.fit(X_train, y_train)\n",
    "neigh.fit(X_train, y_train)\n",
    "svc.fit(X_train, y_train)\n",
    "nbc.fit(X_train, y_train)\n",
    "rfc.fit(X_train, y_train)"
   ]
  },
  {
   "attachments": {},
   "cell_type": "markdown",
   "metadata": {},
   "source": [
    "# Test model with test dataset"
   ]
  },
  {
   "cell_type": "code",
   "execution_count": 15,
   "metadata": {},
   "outputs": [
    {
     "name": "stderr",
     "output_type": "stream",
     "text": [
      "/Users/yannalin/opt/anaconda3/lib/python3.9/site-packages/sklearn/neighbors/_classification.py:228: FutureWarning: Unlike other reduction functions (e.g. `skew`, `kurtosis`), the default behavior of `mode` typically preserves the axis it acts along. In SciPy 1.11.0, this behavior will change: the default value of `keepdims` will become False, the `axis` over which the statistic is taken will be eliminated, and the value None will no longer be accepted. Set `keepdims` to True or False to avoid this warning.\n",
      "  mode, _ = stats.mode(_y[neigh_ind, k], axis=1)\n"
     ]
    }
   ],
   "source": [
    "y_lc_predicted = lc.predict(X_test)\n",
    "y_lc_pred_proba = lc.predict_proba(X_test)\n",
    "\n",
    "y_knn_predicted = neigh.predict(X_test)\n",
    "y_knn_pred_proba = neigh.predict_proba(X_test)\n",
    "\n",
    "y_svc_predicted = svc.predict(X_test)\n",
    "y_svc_pred_proba = svc.predict_proba(X_test)\n",
    "\n",
    "y_nbc_predicted = nbc.predict(X_test)\n",
    "y_nbc_pred_proba = nbc.predict_proba(X_test)\n",
    "\n",
    "y_rfc_predicted = rfc.predict(X_test)\n",
    "y_rfc_pred_proba = rfc.predict_proba(X_test)"
   ]
  },
  {
   "cell_type": "code",
   "execution_count": null,
   "metadata": {},
   "outputs": [],
   "source": []
  }
 ],
 "metadata": {
  "kernelspec": {
   "display_name": "base",
   "language": "python",
   "name": "python3"
  },
  "language_info": {
   "codemirror_mode": {
    "name": "ipython",
    "version": 3
   },
   "file_extension": ".py",
   "mimetype": "text/x-python",
   "name": "python",
   "nbconvert_exporter": "python",
   "pygments_lexer": "ipython3",
   "version": "3.9.13"
  },
  "orig_nbformat": 4,
  "vscode": {
   "interpreter": {
    "hash": "11490a9775b8e885eb05c753dc3908307f75c4041341703b782ba7b04e0b5845"
   }
  }
 },
 "nbformat": 4,
 "nbformat_minor": 2
}
