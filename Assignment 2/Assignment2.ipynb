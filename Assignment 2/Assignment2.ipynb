{
 "cells": [
  {
   "attachments": {},
   "cell_type": "markdown",
   "metadata": {},
   "source": [
    "# Step 1: Exploratory Data Analysis"
   ]
  },
  {
   "cell_type": "code",
   "execution_count": 573,
   "metadata": {},
   "outputs": [],
   "source": [
    "import numpy as np\n",
    "import pandas as pd\n",
    "import seaborn as sns\n",
    "import matplotlib.pyplot as plt\n",
    "import random\n",
    "\n",
    "# read .cvs files\n",
    "n = sum(1 for line in open('train.csv')) - 1 #number of records in file (excludes header)\n",
    "s = 10000 #desired sample size\n",
    "skip = sorted(random.sample(range(1,n+1),n-s)) #the 0-indexed header will not be included in the skip list\n",
    "df = pd.read_csv('train.csv', skiprows=skip)\n",
    "\n",
    "# df = pd.read_csv('train.csv', nrows=5) # nrows=1000\n",
    "test_df = pd.read_csv('test.csv')\n",
    "\n",
    "# get target sets\n",
    "y_train = df[\"Sentiment\"].to_numpy()\n",
    "y_test = test_df[\"Sentiment\"].to_numpy()"
   ]
  },
  {
   "cell_type": "code",
   "execution_count": 574,
   "metadata": {},
   "outputs": [
    {
     "name": "stdout",
     "output_type": "stream",
     "text": [
      "              Index     Sentiment\n",
      "count  1.000000e+04  10000.000000\n",
      "mean   5.310375e+05      0.246300\n",
      "std    3.038286e+05      0.430877\n",
      "min    6.700000e+01      0.000000\n",
      "25%    2.720968e+05      0.000000\n",
      "50%    5.347295e+05      0.000000\n",
      "75%    7.963618e+05      0.000000\n",
      "max    1.048419e+06      1.000000\n"
     ]
    }
   ],
   "source": [
    "# print descriptive statistics of the data, including mean, standard deviation, median, etc.\n",
    "basic_info = df.describe()\n",
    "print(basic_info)"
   ]
  },
  {
   "cell_type": "code",
   "execution_count": 575,
   "metadata": {},
   "outputs": [
    {
     "name": "stdout",
     "output_type": "stream",
     "text": [
      "The data from the first 5 rows are: \n",
      "    Index  Sentiment                                               Text\n",
      "0     67          0  Mo jobs, no money.  how in the hell is min wag...\n",
      "1     75          0            No picnic  my phone smells like citrus.\n",
      "2    161          0                     is alone downstairs...working \n",
      "3    305          0  Argh! I was suuuper sleepy an hour ago, now I'...\n",
      "4    513          0         Dammit... I need to stop buying furniture \n",
      "The data from the last 5 rows are: \n",
      "         Index  Sentiment                                               Text\n",
      "9995  1048067          1  @_MeganElizabeth haha i'm so glad you came, a ...\n",
      "9996  1048071          1                                      it's raining \n",
      "9997  1048159          1  @eyshoyy Hey girl!! I am soo happy to see you!...\n",
      "9998  1048401          1  @mattlaw hang in there sweetie....we might jus...\n",
      "9999  1048419          1  @khani Yep. I think the world is a safer place...\n"
     ]
    }
   ],
   "source": [
    "# display the beginning X rows \n",
    "print(\"The data from the first 5 rows are: \\n\", df.head(5))\n",
    "\n",
    "# display the bottom X rows \n",
    "print(\"The data from the last 5 rows are: \\n\", df.tail(5))"
   ]
  },
  {
   "cell_type": "code",
   "execution_count": 576,
   "metadata": {},
   "outputs": [
    {
     "data": {
      "text/plain": [
       "Index        0\n",
       "Sentiment    0\n",
       "Text         0\n",
       "dtype: int64"
      ]
     },
     "execution_count": 576,
     "metadata": {},
     "output_type": "execute_result"
    }
   ],
   "source": [
    "# check for missing values; verdict = none\n",
    "df.isna().sum()"
   ]
  },
  {
   "cell_type": "code",
   "execution_count": 577,
   "metadata": {},
   "outputs": [
    {
     "name": "stderr",
     "output_type": "stream",
     "text": [
      "C:\\Users\\linya\\AppData\\Local\\Temp\\ipykernel_27612\\1400134019.py:2: UserWarning: Ignoring `palette` because no `hue` variable has been assigned.\n",
      "  sns.histplot(data=df['Sentiment'], palette='bright')\n"
     ]
    },
    {
     "data": {
      "image/png": "[encoded data removed]",
      "text/plain": [
       "<Figure size 640x480 with 1 Axes>"
      ]
     },
     "metadata": {},
     "output_type": "display_data"
    }
   ],
   "source": [
    "# distribution of negative and positive sentiments\n",
    "sns.histplot(data=df['Sentiment'], palette='bright')\n",
    "plt.show()\n",
    "# much more negative than positive sentiments"
   ]
  },
  {
   "attachments": {},
   "cell_type": "markdown",
   "metadata": {},
   "source": [
    "# Step 2: Text Preprocessing"
   ]
  },
  {
   "cell_type": "code",
   "execution_count": 578,
   "metadata": {},
   "outputs": [
    {
     "name": "stderr",
     "output_type": "stream",
     "text": [
      "[nltk_data] Downloading package punkt to\n",
      "[nltk_data]     C:\\Users\\linya\\AppData\\Roaming\\nltk_data...\n",
      "[nltk_data]   Package punkt is already up-to-date!\n",
      "[nltk_data] Downloading package wordnet to\n",
      "[nltk_data]     C:\\Users\\linya\\AppData\\Roaming\\nltk_data...\n",
      "[nltk_data]   Package wordnet is already up-to-date!\n",
      "[nltk_data] Downloading package omw-1.4 to\n",
      "[nltk_data]     C:\\Users\\linya\\AppData\\Roaming\\nltk_data...\n",
      "[nltk_data]   Package omw-1.4 is already up-to-date!\n"
     ]
    },
    {
     "data": {
      "text/plain": [
       "True"
      ]
     },
     "execution_count": 578,
     "metadata": {},
     "output_type": "execute_result"
    }
   ],
   "source": [
    "import nltk\n",
    "import contractions\n",
    "import re\n",
    "\n",
    "from nltk.stem import WordNetLemmatizer\n",
    "lemmatizer = WordNetLemmatizer()\n",
    "\n",
    "nltk.download('punkt')\n",
    "nltk.download('wordnet')\n",
    "nltk.download('omw-1.4')"
   ]
  },
  {
   "cell_type": "code",
   "execution_count": 579,
   "metadata": {},
   "outputs": [],
   "source": [
    "def tokenize(column):\n",
    "\n",
    "    # remove '@', 'http', and contractions\n",
    "    for word in column.split():\n",
    "      if word.startswith('@'):\n",
    "        column = column.replace(word, '')\n",
    "      if word.startswith('http'):\n",
    "        column = column.replace(word, '')\n",
    "      if '\\'' in word:\n",
    "        column = column.replace(word, contractions.fix(word))\n",
    "        # print (word, '->', contractions.fix(word))\n",
    "\n",
    "    # tokenize, remove punctuation, then stem\n",
    "    tokens = nltk.word_tokenize(column)\n",
    "    expanded_tokens = []\n",
    "    i = 0\n",
    "    while i < len(tokens):\n",
    "      # if tokens[i] not in stopwords.words('english'):\n",
    "      if tokens[i].isalpha():\n",
    "        expanded_tokens.append(lemmatizer.lemmatize(tokens[i].lower()))\n",
    "      i += 1\n",
    "\n",
    "    return expanded_tokens"
   ]
  },
  {
   "cell_type": "code",
   "execution_count": 580,
   "metadata": {},
   "outputs": [],
   "source": [
    "def join_tokens(column):\n",
    "\n",
    "    # remove '@', 'http', and contractions\n",
    "    for word in column.split():\n",
    "      if word.startswith('@'):\n",
    "        column = column.replace(word, '')\n",
    "      if word.startswith('http'):\n",
    "        column = column.replace(word, '')\n",
    "      if '\\'' in word:\n",
    "        column = column.replace(word, contractions.fix(word))\n",
    "        # print (word, '->', contractions.fix(word))\n",
    "\n",
    "    # tokenize, remove punctuation, then stem\n",
    "    tokens = nltk.word_tokenize(column)\n",
    "    expanded_tokens = []\n",
    "    i = 0\n",
    "    while i < len(tokens):\n",
    "      # if tokens[i] not in stopwords.words('english'):\n",
    "      if tokens[i].isalpha():\n",
    "        expanded_tokens.append(lemmatizer.lemmatize(tokens[i].lower()))\n",
    "      i += 1\n",
    "\n",
    "    return \" \".join(expanded_tokens)"
   ]
  },
  {
   "cell_type": "code",
   "execution_count": 581,
   "metadata": {},
   "outputs": [
    {
     "data": {
      "text/html": [
       "<div>\n",
       "<style scoped>\n",
       "    .dataframe tbody tr th:only-of-type {\n",
       "        vertical-align: middle;\n",
       "    }\n",
       "\n",
       "    .dataframe tbody tr th {\n",
       "        vertical-align: top;\n",
       "    }\n",
       "\n",
       "    .dataframe thead th {\n",
       "        text-align: right;\n",
       "    }\n",
       "</style>\n",
       "<table border=\"1\" class=\"dataframe\">\n",
       "  <thead>\n",
       "    <tr style=\"text-align: right;\">\n",
       "      <th></th>\n",
       "      <th>Sentiment</th>\n",
       "      <th>Tokenized</th>\n",
       "      <th>Joined Tokens</th>\n",
       "    </tr>\n",
       "  </thead>\n",
       "  <tbody>\n",
       "    <tr>\n",
       "      <th>9995</th>\n",
       "      <td>1</td>\n",
       "      <td>[haha, i, am, so, glad, you, came, a, hot, tub...</td>\n",
       "      <td>haha i am so glad you came a hot tub full of b...</td>\n",
       "    </tr>\n",
       "    <tr>\n",
       "      <th>9996</th>\n",
       "      <td>1</td>\n",
       "      <td>[it, is, raining]</td>\n",
       "      <td>it is raining</td>\n",
       "    </tr>\n",
       "    <tr>\n",
       "      <th>9997</th>\n",
       "      <td>1</td>\n",
       "      <td>[hey, girl, i, am, soo, happy, to, see, you, lol]</td>\n",
       "      <td>hey girl i am soo happy to see you lol</td>\n",
       "    </tr>\n",
       "    <tr>\n",
       "      <th>9998</th>\n",
       "      <td>1</td>\n",
       "      <td>[hang, in, there, sweetie, we, might, just, pu...</td>\n",
       "      <td>hang in there sweetie we might just pull throu...</td>\n",
       "    </tr>\n",
       "    <tr>\n",
       "      <th>9999</th>\n",
       "      <td>1</td>\n",
       "      <td>[yep, i, think, the, world, is, a, safer, plac...</td>\n",
       "      <td>yep i think the world is a safer place now or ...</td>\n",
       "    </tr>\n",
       "  </tbody>\n",
       "</table>\n",
       "</div>"
      ],
      "text/plain": [
       "      Sentiment                                          Tokenized  \\\n",
       "9995          1  [haha, i, am, so, glad, you, came, a, hot, tub...   \n",
       "9996          1                                  [it, is, raining]   \n",
       "9997          1  [hey, girl, i, am, soo, happy, to, see, you, lol]   \n",
       "9998          1  [hang, in, there, sweetie, we, might, just, pu...   \n",
       "9999          1  [yep, i, think, the, world, is, a, safer, plac...   \n",
       "\n",
       "                                          Joined Tokens  \n",
       "9995  haha i am so glad you came a hot tub full of b...  \n",
       "9996                                      it is raining  \n",
       "9997             hey girl i am soo happy to see you lol  \n",
       "9998  hang in there sweetie we might just pull throu...  \n",
       "9999  yep i think the world is a safer place now or ...  "
      ]
     },
     "execution_count": 581,
     "metadata": {},
     "output_type": "execute_result"
    }
   ],
   "source": [
    "df['Tokenized'] = df.apply(lambda x: tokenize(x['Text']), axis=1)\n",
    "df['Joined Tokens'] = df.apply(lambda x: join_tokens(x['Text']), axis=1)\n",
    "\n",
    "test_df['Tokenized'] = test_df.apply(lambda x: tokenize(x['Text']), axis=1)\n",
    "test_df['Joined Tokens'] = test_df.apply(lambda x: join_tokens(x['Text']), axis=1)\n",
    "\n",
    "df[['Sentiment','Tokenized','Joined Tokens']].tail()"
   ]
  },
  {
   "attachments": {},
   "cell_type": "markdown",
   "metadata": {},
   "source": [
    "# Step 3: Linguistic Feature Extraction"
   ]
  },
  {
   "cell_type": "code",
   "execution_count": 582,
   "metadata": {},
   "outputs": [],
   "source": [
    "# Bag of words model\n",
    "from sklearn.feature_extraction.text import CountVectorizer\n",
    "\n",
    "corpus = []\n",
    "for data in df['Joined Tokens']:\n",
    "    corpus.append(data)\n",
    "\n",
    "# Create a Count Vectorizer Object\n",
    "vectorizer  = CountVectorizer(max_features=1000, ngram_range=(1,2))\n",
    "bow_vector = vectorizer.fit_transform(corpus)"
   ]
  },
  {
   "cell_type": "code",
   "execution_count": 583,
   "metadata": {},
   "outputs": [],
   "source": [
    "# TF*IDF model\n",
    "from sklearn.feature_extraction.text import TfidfVectorizer\n",
    "\n",
    "corpus = []\n",
    "for data in df['Joined Tokens']:\n",
    "    corpus.append(data)\n",
    "\n",
    "# Create a Tfid Vectorizer Object\n",
    "vectorizer = TfidfVectorizer(max_features=1000, ngram_range=(1,2))\n",
    "tfidf_vector = vectorizer.fit_transform(corpus)"
   ]
  },
  {
   "cell_type": "code",
   "execution_count": 584,
   "metadata": {},
   "outputs": [],
   "source": [
    "# # word2vec/word embedding model\n",
    "# import gensim\n",
    "# from gensim.models import Word2Vec\n",
    "\n",
    "# words = []\n",
    "# test_words = []\n",
    "\n",
    "# for data in df['Tokenized']:\n",
    "#     words.append(data)\n",
    "# for data in test_df['Tokenized']:\n",
    "#     test_words.append(data)\n",
    "\n",
    "# # CBOW model\n",
    "# cbow = gensim.models.Word2Vec(words, min_count = 1,vector_size = 100, window = 5, sg=0)\n",
    "# # Skip-gram model\n",
    "# skipgram = gensim.models.Word2Vec(words, min_count = 1,vector_size = 100, window = 5, sg=1)\n",
    "\n",
    "# cbow_vector = []\n",
    "# skipgram_vector = []\n",
    "\n",
    "# for data in df['Tokenized']:\n",
    "#     for word in data:\n",
    "#         cbow_vector.append(cbow.wv[word])\n",
    "#     # cbow_vector.append(function_text_2_vec(data))\n",
    "\n",
    "# for data in df['Tokenized']:\n",
    "#     for word in data:\n",
    "#         skipgram_vector.append(skipgram.wv[word])\n",
    "\n",
    "# print(np.array(cbow_vector).mean(axis=0))"
   ]
  },
  {
   "cell_type": "code",
   "execution_count": 585,
   "metadata": {},
   "outputs": [],
   "source": [
    "# trying something else for w2v\n",
    "import gensim\n",
    "from gensim.models import Word2Vec\n",
    "\n",
    "sentences = [sentence for sentence in df['Joined Tokens']]\n",
    "w2v_model = Word2Vec(sentences, vector_size=1000, window=5, min_count=5, workers=4)"
   ]
  },
  {
   "cell_type": "code",
   "execution_count": 586,
   "metadata": {},
   "outputs": [],
   "source": [
    "def vectorize(sentence):\n",
    "    words = sentence.split()\n",
    "    words_vecs = [w2v_model.wv[word] for word in words if word in w2v_model.wv]\n",
    "    if len(words_vecs) == 0:\n",
    "        return np.zeros(1000)\n",
    "    words_vecs = np.array(words_vecs)\n",
    "    return words_vecs.mean(axis=0)\n"
   ]
  },
  {
   "attachments": {},
   "cell_type": "markdown",
   "metadata": {},
   "source": [
    "# Step 4: Build sentiment classification model"
   ]
  },
  {
   "cell_type": "code",
   "execution_count": 587,
   "metadata": {},
   "outputs": [],
   "source": [
    "# Import classifiers and metrics from sklearn\n",
    "from sklearn.linear_model import LogisticRegression\n",
    "from sklearn.neighbors import KNeighborsClassifier\n",
    "from sklearn.svm import SVC\n",
    "from sklearn.naive_bayes import GaussianNB\n",
    "from sklearn.ensemble import RandomForestClassifier\n",
    "from sklearn.metrics import ConfusionMatrixDisplay, confusion_matrix, roc_curve, auc, classification_report\n",
    "from sklearn.model_selection import train_test_split\n",
    "\n",
    "import matplotlib.pyplot as plt\n",
    "\n",
    "lc = LogisticRegression()\n",
    "neigh = KNeighborsClassifier(n_neighbors=3)\n",
    "svc = SVC(probability=True)\n",
    "nbc = GaussianNB()\n",
    "rfc = RandomForestClassifier()\n"
   ]
  },
  {
   "cell_type": "code",
   "execution_count": 588,
   "metadata": {},
   "outputs": [],
   "source": [
    "# # SMOTE for Imbalanced Classification\n",
    "from imblearn.over_sampling import SMOTE\n",
    "\n",
    "def train_and_predict_models():\n",
    "    y = df['Sentiment'].values\n",
    "    X_train, X_test, y_train, y_test = train_test_split(X, y, test_size=0.2, random_state=42)\n",
    "    over_sampled_X_train, X_test, over_sampled_y_train, y_test = train_test_split(X, y, test_size=0.2, random_state=42)\n",
    "\n",
    "    oversample = SMOTE()\n",
    "    over_sampled_X_train, over_sampled_y_train = oversample.fit_resample(X_train, y_train)\n",
    "\n",
    "    lc.fit(over_sampled_X_train, over_sampled_y_train)\n",
    "    neigh.fit(over_sampled_X_train, over_sampled_y_train)\n",
    "    svc.fit(over_sampled_X_train, over_sampled_y_train)\n",
    "    nbc.fit(over_sampled_X_train, over_sampled_y_train)\n",
    "    rfc.fit(over_sampled_X_train, over_sampled_y_train)\n",
    "\n",
    "    y_lc_predicted = lc.predict(X_test)\n",
    "    y_lc_pred_proba = lc.predict_proba(X_test)\n",
    "\n",
    "    y_knn_predicted = neigh.predict(X_test)\n",
    "    y_knn_pred_proba = neigh.predict_proba(X_test)\n",
    "\n",
    "    y_svc_predicted = svc.predict(X_test)\n",
    "    y_svc_pred_proba = svc.predict_proba(X_test)\n",
    "\n",
    "    y_nbc_predicted = nbc.predict(X_test)\n",
    "    y_nbc_pred_proba = nbc.predict_proba(X_test)\n",
    "\n",
    "    y_rfc_predicted = rfc.predict(X_test)\n",
    "    y_rfc_pred_proba = rfc.predict_proba(X_test)\n",
    "\n",
    "    print('Logistic Regression:\\n', classification_report(y_test, y_lc_predicted))\n",
    "    print('K Nearest Neighbor:\\n', classification_report(y_test, y_knn_predicted))\n",
    "    print('Support Vector Machine:\\n', classification_report(y_test, y_svc_predicted))\n",
    "    print('Naive Bayes Classification:\\n', classification_report(y_test, y_nbc_predicted))\n",
    "    print('Random Forest classification:\\n', classification_report(y_test, y_rfc_predicted))"
   ]
  },
  {
   "cell_type": "code",
   "execution_count": 589,
   "metadata": {},
   "outputs": [
    {
     "name": "stdout",
     "output_type": "stream",
     "text": [
      "Bag of Words: \n",
      "\n",
      "Logistic Regression:\n",
      "               precision    recall  f1-score   support\n",
      "\n",
      "           0       0.88      0.79      0.83      1511\n",
      "           1       0.50      0.66      0.57       489\n",
      "\n",
      "    accuracy                           0.76      2000\n",
      "   macro avg       0.69      0.73      0.70      2000\n",
      "weighted avg       0.79      0.76      0.77      2000\n",
      "\n",
      "K Nearest Neighbor:\n",
      "               precision    recall  f1-score   support\n",
      "\n",
      "           0       0.84      0.55      0.67      1511\n",
      "           1       0.33      0.67      0.44       489\n",
      "\n",
      "    accuracy                           0.58      2000\n",
      "   macro avg       0.58      0.61      0.55      2000\n",
      "weighted avg       0.71      0.58      0.61      2000\n",
      "\n",
      "Support Vector Machine:\n",
      "               precision    recall  f1-score   support\n",
      "\n",
      "           0       0.83      0.87      0.85      1511\n",
      "           1       0.54      0.46      0.50       489\n",
      "\n",
      "    accuracy                           0.77      2000\n",
      "   macro avg       0.69      0.67      0.67      2000\n",
      "weighted avg       0.76      0.77      0.77      2000\n",
      "\n",
      "Naive Bayes Classification:\n",
      "               precision    recall  f1-score   support\n",
      "\n",
      "           0       0.84      0.73      0.78      1511\n",
      "           1       0.40      0.57      0.47       489\n",
      "\n",
      "    accuracy                           0.69      2000\n",
      "   macro avg       0.62      0.65      0.62      2000\n",
      "weighted avg       0.73      0.69      0.70      2000\n",
      "\n",
      "Random Forest classification:\n",
      "               precision    recall  f1-score   support\n",
      "\n",
      "           0       0.82      0.86      0.84      1511\n",
      "           1       0.50      0.42      0.45       489\n",
      "\n",
      "    accuracy                           0.75      2000\n",
      "   macro avg       0.66      0.64      0.65      2000\n",
      "weighted avg       0.74      0.75      0.75      2000\n",
      "\n",
      "TF*IDF: \n",
      "\n",
      "Logistic Regression:\n",
      "               precision    recall  f1-score   support\n",
      "\n",
      "           0       0.87      0.81      0.84      1511\n",
      "           1       0.51      0.63      0.57       489\n",
      "\n",
      "    accuracy                           0.76      2000\n",
      "   macro avg       0.69      0.72      0.70      2000\n",
      "weighted avg       0.78      0.76      0.77      2000\n",
      "\n",
      "K Nearest Neighbor:\n",
      "               precision    recall  f1-score   support\n",
      "\n",
      "           0       0.85      0.20      0.32      1511\n",
      "           1       0.26      0.90      0.41       489\n",
      "\n",
      "    accuracy                           0.37      2000\n",
      "   macro avg       0.56      0.55      0.36      2000\n",
      "weighted avg       0.71      0.37      0.34      2000\n",
      "\n",
      "Support Vector Machine:\n",
      "               precision    recall  f1-score   support\n",
      "\n",
      "           0       0.82      0.94      0.87      1511\n",
      "           1       0.65      0.35      0.46       489\n",
      "\n",
      "    accuracy                           0.80      2000\n",
      "   macro avg       0.73      0.65      0.67      2000\n",
      "weighted avg       0.78      0.80      0.77      2000\n",
      "\n",
      "Naive Bayes Classification:\n",
      "               precision    recall  f1-score   support\n",
      "\n",
      "           0       0.87      0.65      0.75      1511\n",
      "           1       0.39      0.70      0.50       489\n",
      "\n",
      "    accuracy                           0.66      2000\n",
      "   macro avg       0.63      0.67      0.62      2000\n",
      "weighted avg       0.75      0.66      0.69      2000\n",
      "\n",
      "Random Forest classification:\n",
      "               precision    recall  f1-score   support\n",
      "\n",
      "           0       0.82      0.91      0.86      1511\n",
      "           1       0.57      0.39      0.46       489\n",
      "\n",
      "    accuracy                           0.78      2000\n",
      "   macro avg       0.70      0.65      0.66      2000\n",
      "weighted avg       0.76      0.78      0.76      2000\n",
      "\n",
      "Word2Vec: \n",
      "\n",
      "Logistic Regression:\n",
      "               precision    recall  f1-score   support\n",
      "\n",
      "           0       0.81      0.49      0.61      1511\n",
      "           1       0.29      0.63      0.40       489\n",
      "\n",
      "    accuracy                           0.53      2000\n",
      "   macro avg       0.55      0.56      0.50      2000\n",
      "weighted avg       0.68      0.53      0.56      2000\n",
      "\n",
      "K Nearest Neighbor:\n",
      "               precision    recall  f1-score   support\n",
      "\n",
      "           0       0.76      0.81      0.79      1511\n",
      "           1       0.28      0.22      0.25       489\n",
      "\n",
      "    accuracy                           0.67      2000\n",
      "   macro avg       0.52      0.52      0.52      2000\n",
      "weighted avg       0.64      0.67      0.66      2000\n",
      "\n",
      "Support Vector Machine:\n",
      "               precision    recall  f1-score   support\n",
      "\n",
      "           0       0.81      0.51      0.63      1511\n",
      "           1       0.30      0.63      0.40       489\n",
      "\n",
      "    accuracy                           0.54      2000\n",
      "   macro avg       0.55      0.57      0.52      2000\n",
      "weighted avg       0.69      0.54      0.57      2000\n",
      "\n",
      "Naive Bayes Classification:\n",
      "               precision    recall  f1-score   support\n",
      "\n",
      "           0       0.81      0.48      0.60      1511\n",
      "           1       0.29      0.65      0.40       489\n",
      "\n",
      "    accuracy                           0.52      2000\n",
      "   macro avg       0.55      0.57      0.50      2000\n",
      "weighted avg       0.68      0.52      0.55      2000\n",
      "\n",
      "Random Forest classification:\n",
      "               precision    recall  f1-score   support\n",
      "\n",
      "           0       0.81      0.45      0.58      1511\n",
      "           1       0.29      0.69      0.40       489\n",
      "\n",
      "    accuracy                           0.51      2000\n",
      "   macro avg       0.55      0.57      0.49      2000\n",
      "weighted avg       0.69      0.51      0.54      2000\n",
      "\n"
     ]
    }
   ],
   "source": [
    "# Bag of Words\n",
    "print('Bag of Words: \\n')\n",
    "X = bow_vector.toarray()\n",
    "train_and_predict_models()\n",
    "\n",
    "# TF*IDF\n",
    "print('TF*IDF: \\n')\n",
    "X = tfidf_vector.toarray()\n",
    "train_and_predict_models()\n",
    "\n",
    "# Word2Vec\n",
    "print('Word2Vec: \\n')\n",
    "# X = np.array(cbow_vector)\n",
    "# train_and_predict_models()\n",
    "X = np.array([vectorize(sentence) for sentence in df['Joined Tokens']])\n",
    "train_and_predict_models()\n"
   ]
  }
 ],
 "metadata": {
  "kernelspec": {
   "display_name": "myenv",
   "language": "python",
   "name": "python3"
  },
  "language_info": {
   "codemirror_mode": {
    "name": "ipython",
    "version": 3
   },
   "file_extension": ".py",
   "mimetype": "text/x-python",
   "name": "python",
   "nbconvert_exporter": "python",
   "pygments_lexer": "ipython3",
   "version": "3.9.16"
  },
  "orig_nbformat": 4
 },
 "nbformat": 4,
 "nbformat_minor": 2
}
