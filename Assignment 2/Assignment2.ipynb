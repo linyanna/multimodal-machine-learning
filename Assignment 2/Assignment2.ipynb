{
 "cells": [
  {
   "attachments": {},
   "cell_type": "markdown",
   "metadata": {},
   "source": [
    "# Step 1: Exploratory Data Analysis"
   ]
  },
  {
   "cell_type": "code",
   "execution_count": 148,
   "metadata": {},
   "outputs": [],
   "source": [
    "import numpy as np\n",
    "import pandas as pd\n",
    "import seaborn as sns\n",
    "import matplotlib.pyplot as plt\n",
    "\n",
    "# read .cvs files\n",
    "df = pd.read_csv('train.csv', nrows=1000)\n",
    "test_df = pd.read_csv('test.csv')\n",
    "\n",
    "# get target sets\n",
    "y_train = df[\"Sentiment\"].values\n",
    "y_test = test_df[\"Sentiment\"].values"
   ]
  },
  {
   "cell_type": "code",
   "execution_count": 149,
   "metadata": {},
   "outputs": [
    {
     "name": "stdout",
     "output_type": "stream",
     "text": [
      "             Index  Sentiment\n",
      "count  1000.000000     1000.0\n",
      "mean    499.500000        0.0\n",
      "std     288.819436        0.0\n",
      "min       0.000000        0.0\n",
      "25%     249.750000        0.0\n",
      "50%     499.500000        0.0\n",
      "75%     749.250000        0.0\n",
      "max     999.000000        0.0\n"
     ]
    }
   ],
   "source": [
    "# print descriptive statistics of the data, including mean, standard deviation, median, etc.\n",
    "basic_info = df.describe()\n",
    "print(basic_info)"
   ]
  },
  {
   "cell_type": "code",
   "execution_count": 150,
   "metadata": {},
   "outputs": [
    {
     "name": "stdout",
     "output_type": "stream",
     "text": [
      "The data from the first 5 rows are: \n",
      "    Index  Sentiment                                               Text\n",
      "0      0          0  @switchfoot http://twitpic.com/2y1zl - Awww, t...\n",
      "1      1          0  is upset that he can't update his Facebook by ...\n",
      "2      2          0  @Kenichan I dived many times for the ball. Man...\n",
      "3      3          0    my whole body feels itchy and like its on fire \n",
      "4      4          0  @nationwideclass no, it's not behaving at all....\n",
      "The data from the last 5 rows are: \n",
      "      Index  Sentiment                                               Text\n",
      "995    995          0  @dkoenigs thanks man.  I'm so very grateful.  ...\n",
      "996    996          0  @t_wolfe  i miss u too. i'm totally comin back...\n",
      "997    997          0  @sniffinglue ohhh. I love it. ps I'm sad we di...\n",
      "998    998          0          And somehow I still end up in this place \n",
      "999    999          0         @kisluvkis oh that is very sad, poor boy. \n"
     ]
    }
   ],
   "source": [
    "# display the beginning X rows \n",
    "print(\"The data from the first 5 rows are: \\n\", df.head(5))\n",
    "\n",
    "# display the bottom X rows \n",
    "print(\"The data from the last 5 rows are: \\n\", df.tail(5))"
   ]
  },
  {
   "cell_type": "code",
   "execution_count": 151,
   "metadata": {},
   "outputs": [
    {
     "data": {
      "text/plain": [
       "Index        0\n",
       "Sentiment    0\n",
       "Text         0\n",
       "dtype: int64"
      ]
     },
     "execution_count": 151,
     "metadata": {},
     "output_type": "execute_result"
    }
   ],
   "source": [
    "# check for missin values; verdict = none\n",
    "df.isna().sum()"
   ]
  },
  {
   "cell_type": "code",
   "execution_count": 152,
   "metadata": {},
   "outputs": [
    {
     "name": "stderr",
     "output_type": "stream",
     "text": [
      "C:\\Users\\linya\\AppData\\Local\\Temp\\ipykernel_8496\\1400134019.py:2: UserWarning: Ignoring `palette` because no `hue` variable has been assigned.\n",
      "  sns.histplot(data=df['Sentiment'], palette='bright')\n"
     ]
    },
    {
     "data": {
      "image/png": "[encoded data removed]",
      "text/plain": [
       "<Figure size 640x480 with 1 Axes>"
      ]
     },
     "metadata": {},
     "output_type": "display_data"
    }
   ],
   "source": [
    "# distribution of negative and positive sentiments\n",
    "sns.histplot(data=df['Sentiment'], palette='bright')\n",
    "plt.show()\n",
    "# much more negative than positive sentiments"
   ]
  },
  {
   "attachments": {},
   "cell_type": "markdown",
   "metadata": {},
   "source": [
    "# Step 2: Text Preprocessing"
   ]
  },
  {
   "cell_type": "code",
   "execution_count": 153,
   "metadata": {},
   "outputs": [
    {
     "name": "stderr",
     "output_type": "stream",
     "text": [
      "[nltk_data] Downloading package punkt to\n",
      "[nltk_data]     C:\\Users\\linya\\AppData\\Roaming\\nltk_data...\n",
      "[nltk_data]   Package punkt is already up-to-date!\n",
      "[nltk_data] Downloading package wordnet to\n",
      "[nltk_data]     C:\\Users\\linya\\AppData\\Roaming\\nltk_data...\n",
      "[nltk_data]   Package wordnet is already up-to-date!\n",
      "[nltk_data] Downloading package omw-1.4 to\n",
      "[nltk_data]     C:\\Users\\linya\\AppData\\Roaming\\nltk_data...\n",
      "[nltk_data]   Package omw-1.4 is already up-to-date!\n"
     ]
    },
    {
     "data": {
      "text/plain": [
       "True"
      ]
     },
     "execution_count": 153,
     "metadata": {},
     "output_type": "execute_result"
    }
   ],
   "source": [
    "import nltk\n",
    "import contractions\n",
    "import re\n",
    "\n",
    "from nltk.stem import WordNetLemmatizer\n",
    "lemmatizer = WordNetLemmatizer()\n",
    "\n",
    "nltk.download('punkt')\n",
    "nltk.download('wordnet')\n",
    "nltk.download('omw-1.4')"
   ]
  },
  {
   "cell_type": "code",
   "execution_count": 154,
   "metadata": {},
   "outputs": [],
   "source": [
    "def tokenize(column):\n",
    "\n",
    "    # remove '@', 'http', and contractions\n",
    "    for word in column.split():\n",
    "      if word.startswith('@'):\n",
    "        column = column.replace(word, '')\n",
    "      if word.startswith('http'):\n",
    "        column = column.replace(word, '')\n",
    "      if '\\'' in word:\n",
    "        column = column.replace(word, contractions.fix(word))\n",
    "        # print (word, '->', contractions.fix(word))\n",
    "\n",
    "    # tokenize, remove punctuation, then stem\n",
    "    tokens = nltk.word_tokenize(column)\n",
    "    expanded_tokens = []\n",
    "    i = 0\n",
    "    while i < len(tokens):\n",
    "      # if tokens[i] not in stopwords.words('english'):\n",
    "      if tokens[i].isalpha():\n",
    "        expanded_tokens.append(lemmatizer.lemmatize(tokens[i].lower()))\n",
    "      i += 1\n",
    "\n",
    "    return expanded_tokens"
   ]
  },
  {
   "cell_type": "code",
   "execution_count": 155,
   "metadata": {},
   "outputs": [],
   "source": [
    "def join_tokens(column):\n",
    "\n",
    "    # remove '@', 'http', and contractions\n",
    "    for word in column.split():\n",
    "      if word.startswith('@'):\n",
    "        column = column.replace(word, '')\n",
    "      if word.startswith('http'):\n",
    "        column = column.replace(word, '')\n",
    "      if '\\'' in word:\n",
    "        column = column.replace(word, contractions.fix(word))\n",
    "        # print (word, '->', contractions.fix(word))\n",
    "\n",
    "    # tokenize, remove punctuation, then stem\n",
    "    tokens = nltk.word_tokenize(column)\n",
    "    expanded_tokens = []\n",
    "    i = 0\n",
    "    while i < len(tokens):\n",
    "      # if tokens[i] not in stopwords.words('english'):\n",
    "      if tokens[i].isalpha():\n",
    "        expanded_tokens.append(lemmatizer.lemmatize(tokens[i].lower()))\n",
    "      i += 1\n",
    "\n",
    "    return \" \".join(expanded_tokens)"
   ]
  },
  {
   "cell_type": "code",
   "execution_count": 156,
   "metadata": {},
   "outputs": [
    {
     "data": {
      "text/html": [
       "<div>\n",
       "<style scoped>\n",
       "    .dataframe tbody tr th:only-of-type {\n",
       "        vertical-align: middle;\n",
       "    }\n",
       "\n",
       "    .dataframe tbody tr th {\n",
       "        vertical-align: top;\n",
       "    }\n",
       "\n",
       "    .dataframe thead th {\n",
       "        text-align: right;\n",
       "    }\n",
       "</style>\n",
       "<table border=\"1\" class=\"dataframe\">\n",
       "  <thead>\n",
       "    <tr style=\"text-align: right;\">\n",
       "      <th></th>\n",
       "      <th>Sentiment</th>\n",
       "      <th>Tokenized</th>\n",
       "      <th>Joined Tokens</th>\n",
       "    </tr>\n",
       "  </thead>\n",
       "  <tbody>\n",
       "    <tr>\n",
       "      <th>0</th>\n",
       "      <td>0</td>\n",
       "      <td>[awww, that, is, a, bummer, you, shoulda, got,...</td>\n",
       "      <td>awww that is a bummer you shoulda got david ca...</td>\n",
       "    </tr>\n",
       "    <tr>\n",
       "      <th>1</th>\n",
       "      <td>0</td>\n",
       "      <td>[is, upset, that, he, can, not, update, his, f...</td>\n",
       "      <td>is upset that he can not update his facebook b...</td>\n",
       "    </tr>\n",
       "    <tr>\n",
       "      <th>2</th>\n",
       "      <td>0</td>\n",
       "      <td>[i, dived, many, time, for, the, ball, managed...</td>\n",
       "      <td>i dived many time for the ball managed to save...</td>\n",
       "    </tr>\n",
       "    <tr>\n",
       "      <th>3</th>\n",
       "      <td>0</td>\n",
       "      <td>[my, whole, body, feel, itchy, and, like, it, ...</td>\n",
       "      <td>my whole body feel itchy and like it on fire</td>\n",
       "    </tr>\n",
       "    <tr>\n",
       "      <th>4</th>\n",
       "      <td>0</td>\n",
       "      <td>[no, it, is, not, behaving, at, all, i, am, ma...</td>\n",
       "      <td>no it is not behaving at all i am mad why am i...</td>\n",
       "    </tr>\n",
       "  </tbody>\n",
       "</table>\n",
       "</div>"
      ],
      "text/plain": [
       "   Sentiment                                          Tokenized  \\\n",
       "0          0  [awww, that, is, a, bummer, you, shoulda, got,...   \n",
       "1          0  [is, upset, that, he, can, not, update, his, f...   \n",
       "2          0  [i, dived, many, time, for, the, ball, managed...   \n",
       "3          0  [my, whole, body, feel, itchy, and, like, it, ...   \n",
       "4          0  [no, it, is, not, behaving, at, all, i, am, ma...   \n",
       "\n",
       "                                       Joined Tokens  \n",
       "0  awww that is a bummer you shoulda got david ca...  \n",
       "1  is upset that he can not update his facebook b...  \n",
       "2  i dived many time for the ball managed to save...  \n",
       "3       my whole body feel itchy and like it on fire  \n",
       "4  no it is not behaving at all i am mad why am i...  "
      ]
     },
     "execution_count": 156,
     "metadata": {},
     "output_type": "execute_result"
    }
   ],
   "source": [
    "df['Tokenized'] = df.apply(lambda x: tokenize(x['Text']), axis=1)\n",
    "df['Joined Tokens'] = df.apply(lambda x: join_tokens(x['Text']), axis=1)\n",
    "test_df['Tokenized'] = test_df.apply(lambda x: tokenize(x['Text']), axis=1)\n",
    "test_df['Joined Tokens'] = test_df.apply(lambda x: join_tokens(x['Text']), axis=1)\n",
    "df[['Sentiment','Tokenized','Joined Tokens']].head()\n",
    "# df.head()"
   ]
  },
  {
   "attachments": {},
   "cell_type": "markdown",
   "metadata": {},
   "source": [
    "# Step 3: Linguistic Feature Extraction"
   ]
  },
  {
   "cell_type": "code",
   "execution_count": 157,
   "metadata": {},
   "outputs": [],
   "source": [
    "# Bag of words model\n",
    "word2count = {}\n",
    "for data in df['Joined Tokens']:\n",
    "    words = nltk.word_tokenize(data)\n",
    "    for word in words:\n",
    "        if word not in word2count.keys():\n",
    "            word2count[word] = 1\n",
    "        else:\n",
    "            word2count[word] += 1\n",
    "\n",
    "unique_words = list(word2count.keys())\n",
    "bag_of_words = []\n",
    "for data in df['Joined Tokens']:\n",
    "    words = nltk.word_tokenize(data)\n",
    "    bag_vector = np.zeros(len(unique_words))\n",
    "    for word in words:\n",
    "        for i, unique_word in enumerate(unique_words):\n",
    "            if unique_word == word:\n",
    "                bag_vector[i] += 1\n",
    "    bag_of_words.append(bag_vector)\n",
    "\n",
    "# print(bag_of_words)\n"
   ]
  },
  {
   "cell_type": "code",
   "execution_count": 158,
   "metadata": {},
   "outputs": [
    {
     "data": {
      "text/plain": [
       "Text(0.5, 1.0, 'Sparse Matrix Sample')"
      ]
     },
     "execution_count": 158,
     "metadata": {},
     "output_type": "execute_result"
    },
    {
     "data": {
      "image/png": "[encoded data removed]",
      "text/plain": [
       "<Figure size 640x480 with 1 Axes>"
      ]
     },
     "metadata": {},
     "output_type": "display_data"
    }
   ],
   "source": [
    "# TF*IDF model\n",
    "from sklearn.feature_extraction.text import TfidfVectorizer\n",
    "\n",
    "corpus = []\n",
    "for data in df['Joined Tokens']:\n",
    "    corpus.append(data)\n",
    "\n",
    "# tf_idf_model = TfidfVectorizer()\n",
    "# tf_idf_vector = tf_idf_model.fit_transform(corpus)\n",
    "\n",
    "# tf_idf_array = tf_idf_vector.toarray()\n",
    "\n",
    "vectorizer = TfidfVectorizer()\n",
    "vectorizer.fit(corpus)\n",
    "X_train = vectorizer.transform(corpus)\n",
    "dic_vocabulary = vectorizer.vocabulary_\n",
    "\n",
    "sns.heatmap(X_train.todense()[:,np.random.randint(0,df.shape[1],100)]==0, vmin=0, vmax=1, cbar=False).set_title('Sparse Matrix Sample')\n",
    "\n",
    "# print(tf_idf_array)"
   ]
  },
  {
   "cell_type": "code",
   "execution_count": 159,
   "metadata": {},
   "outputs": [],
   "source": [
    "# word2vec/word embedding model\n",
    "import gensim\n",
    "from gensim.models import Word2Vec\n",
    "\n",
    "words = []\n",
    "test_words = []\n",
    "\n",
    "for data in df['Tokenized']:\n",
    "    words.append(data)\n",
    "for data in test_df['Tokenized']:\n",
    "    test_words.append(data)\n",
    "\n",
    "# CBOW model\n",
    "cbow = gensim.models.Word2Vec(words, min_count = 1,vector_size = 100, window = 5, sg=0)\n",
    "cbow_test = gensim.models.Word2Vec(test_words, min_count = 1,vector_size = 100, window = 5, sg=0)\n",
    "# Skip-gram model\n",
    "skipgram = gensim.models.Word2Vec(words, min_count = 1,vector_size = 100, window = 5, sg=1)\n",
    "skipgram_test = gensim.models.Word2Vec(test_words, min_count = 1,vector_size = 100, window = 5, sg=1)"
   ]
  },
  {
   "attachments": {},
   "cell_type": "markdown",
   "metadata": {},
   "source": [
    "# Step 4: Build sentiment classification model"
   ]
  },
  {
   "cell_type": "code",
   "execution_count": 160,
   "metadata": {},
   "outputs": [],
   "source": [
    "# Naive Bayes classifier model\n",
    "from sklearn import naive_bayes, pipeline, metrics\n",
    "classifier = naive_bayes.MultinomialNB()\n",
    "\n",
    "## pipeline\n",
    "model = pipeline.Pipeline([(\"vectorizer\", vectorizer),  \n",
    "                           (\"classifier\", classifier)])\n",
    "## train classifier\n",
    "model[\"classifier\"].fit(X_train, y_train)\n",
    "## test\n",
    "X_test = test_df[\"Joined Tokens\"].values\n",
    "predicted = model.predict(X_test)\n",
    "predicted_prob = model.predict_proba(X_test)"
   ]
  },
  {
   "cell_type": "code",
   "execution_count": 166,
   "metadata": {},
   "outputs": [
    {
     "name": "stdout",
     "output_type": "stream",
     "text": [
      "Accuracy: 0.49\n",
      "Auc: 0.5\n",
      "Detail:\n",
      "              precision    recall  f1-score   support\n",
      "\n",
      "           0       0.49      1.00      0.66       177\n",
      "           1       0.00      0.00      0.00       182\n",
      "\n",
      "    accuracy                           0.49       359\n",
      "   macro avg       0.25      0.50      0.33       359\n",
      "weighted avg       0.24      0.49      0.33       359\n",
      "\n"
     ]
    },
    {
     "name": "stderr",
     "output_type": "stream",
     "text": [
      "c:\\Users\\linya\\anaconda3\\envs\\nlp\\lib\\site-packages\\sklearn\\metrics\\_classification.py:1344: UndefinedMetricWarning: Precision and F-score are ill-defined and being set to 0.0 in labels with no predicted samples. Use `zero_division` parameter to control this behavior.\n",
      "  _warn_prf(average, modifier, msg_start, len(result))\n",
      "c:\\Users\\linya\\anaconda3\\envs\\nlp\\lib\\site-packages\\sklearn\\metrics\\_classification.py:1344: UndefinedMetricWarning: Precision and F-score are ill-defined and being set to 0.0 in labels with no predicted samples. Use `zero_division` parameter to control this behavior.\n",
      "  _warn_prf(average, modifier, msg_start, len(result))\n",
      "c:\\Users\\linya\\anaconda3\\envs\\nlp\\lib\\site-packages\\sklearn\\metrics\\_classification.py:1344: UndefinedMetricWarning: Precision and F-score are ill-defined and being set to 0.0 in labels with no predicted samples. Use `zero_division` parameter to control this behavior.\n",
      "  _warn_prf(average, modifier, msg_start, len(result))\n"
     ]
    }
   ],
   "source": [
    "classes = np.unique(y_test)\n",
    "y_test_array = pd.get_dummies(y_test, drop_first=False).values\n",
    "    \n",
    "## Accuracy, Precision, Recall\n",
    "accuracy = metrics.accuracy_score(y_test, predicted)\n",
    "auc = metrics.roc_auc_score(y_test, predicted_prob, \n",
    "                            multi_class=\"ovr\")\n",
    "print(\"Accuracy:\",  round(accuracy,2))\n",
    "print(\"Auc:\", round(auc,2))\n",
    "print(\"Detail:\")\n",
    "print(metrics.classification_report(y_test, predicted))\n",
    "    "
   ]
  },
  {
   "cell_type": "code",
   "execution_count": 162,
   "metadata": {},
   "outputs": [],
   "source": [
    "# # Logistic Regression\n",
    "# from sklearn.linear_model import LogisticRegression\n",
    "# lr = LogisticRegression()\n",
    "\n",
    "# # with cbow\n",
    "# train_matrix = cbow.wv.fit_transform(df['Joined Tokens'])\n",
    "# test_matrix = cbow_test.wv.fit_transform(test_df['Joined Tokens'])\n",
    "\n",
    "# X_train = train_matrix\n",
    "# X_test = test_matrix\n",
    "# y_train = df['Sentiment']\n",
    "# y_test = test_df['Sentiment']\n",
    "\n",
    "# lr.fit(X_train, y_train)\n",
    "\n",
    "# y_pred = lr.predict(X_test)"
   ]
  },
  {
   "cell_type": "code",
   "execution_count": 164,
   "metadata": {},
   "outputs": [],
   "source": [
    "# # find accuracy, precision:\n",
    "# from sklearn.metrics import confusion_matrix,classification_report\n",
    "# new = np.asarray(y_test)\n",
    "# confusion_matrix(y_pred,y_test)"
   ]
  }
 ],
 "metadata": {
  "kernelspec": {
   "display_name": "myenv",
   "language": "python",
   "name": "python3"
  },
  "language_info": {
   "codemirror_mode": {
    "name": "ipython",
    "version": 3
   },
   "file_extension": ".py",
   "mimetype": "text/x-python",
   "name": "python",
   "nbconvert_exporter": "python",
   "pygments_lexer": "ipython3",
   "version": "3.9.16"
  },
  "orig_nbformat": 4
 },
 "nbformat": 4,
 "nbformat_minor": 2
}
