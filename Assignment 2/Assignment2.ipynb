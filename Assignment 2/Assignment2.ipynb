{
 "cells": [
  {
   "cell_type": "code",
   "execution_count": 141,
   "metadata": {},
   "outputs": [],
   "source": [
    "import numpy as np\n",
    "import pandas as pd\n",
    "import seaborn as sns\n",
    "import matplotlib.pyplot as plt\n",
    "\n",
    "# read .cvs files\n",
    "df = pd.read_csv('train.csv', nrows=1000)\n",
    "test_df = pd.read_csv('test.csv')"
   ]
  },
  {
   "cell_type": "code",
   "execution_count": 142,
   "metadata": {},
   "outputs": [
    {
     "name": "stdout",
     "output_type": "stream",
     "text": [
      "             Index  Sentiment\n",
      "count  1000.000000     1000.0\n",
      "mean    499.500000        0.0\n",
      "std     288.819436        0.0\n",
      "min       0.000000        0.0\n",
      "25%     249.750000        0.0\n",
      "50%     499.500000        0.0\n",
      "75%     749.250000        0.0\n",
      "max     999.000000        0.0\n"
     ]
    }
   ],
   "source": [
    "# print descriptive statistics of the data, including mean, standard deviation, median, etc.\n",
    "basic_info = df.describe()\n",
    "print(basic_info)"
   ]
  },
  {
   "cell_type": "code",
   "execution_count": 143,
   "metadata": {},
   "outputs": [
    {
     "name": "stdout",
     "output_type": "stream",
     "text": [
      "The data from the first 5 rows are: \n",
      "    Index  Sentiment                                               Text\n",
      "0      0          0  @switchfoot http://twitpic.com/2y1zl - Awww, t...\n",
      "1      1          0  is upset that he can't update his Facebook by ...\n",
      "2      2          0  @Kenichan I dived many times for the ball. Man...\n",
      "3      3          0    my whole body feels itchy and like its on fire \n",
      "4      4          0  @nationwideclass no, it's not behaving at all....\n",
      "The data from the last 5 rows are: \n",
      "      Index  Sentiment                                               Text\n",
      "995    995          0  @dkoenigs thanks man.  I'm so very grateful.  ...\n",
      "996    996          0  @t_wolfe  i miss u too. i'm totally comin back...\n",
      "997    997          0  @sniffinglue ohhh. I love it. ps I'm sad we di...\n",
      "998    998          0          And somehow I still end up in this place \n",
      "999    999          0         @kisluvkis oh that is very sad, poor boy. \n"
     ]
    }
   ],
   "source": [
    "# display the beginning X rows \n",
    "print(\"The data from the first 5 rows are: \\n\", df.head(5))\n",
    "\n",
    "# display the bottom X rows \n",
    "print(\"The data from the last 5 rows are: \\n\", df.tail(5))"
   ]
  },
  {
   "cell_type": "code",
   "execution_count": 144,
   "metadata": {},
   "outputs": [
    {
     "data": {
      "text/plain": [
       "Index        0\n",
       "Sentiment    0\n",
       "Text         0\n",
       "dtype: int64"
      ]
     },
     "execution_count": 144,
     "metadata": {},
     "output_type": "execute_result"
    }
   ],
   "source": [
    "# check for missin values; verdict = none\n",
    "df.isna().sum()"
   ]
  },
  {
   "cell_type": "code",
   "execution_count": 145,
   "metadata": {},
   "outputs": [
    {
     "name": "stderr",
     "output_type": "stream",
     "text": [
      "/var/folders/5k/sjwwd0rj5cx9swsd9y1mfdzm0000gn/T/ipykernel_78784/1400134019.py:2: UserWarning: Ignoring `palette` because no `hue` variable has been assigned.\n",
      "  sns.histplot(data=df['Sentiment'], palette='bright')\n"
     ]
    },
    {
     "data": {
      "image/png": "[encoded data removed]",
      "text/plain": [
       "<Figure size 640x480 with 1 Axes>"
      ]
     },
     "metadata": {},
     "output_type": "display_data"
    }
   ],
   "source": [
    "# distribution of negative and positive sentiments\n",
    "sns.histplot(data=df['Sentiment'], palette='bright')\n",
    "plt.show()\n",
    "# much more negative than positive sentiments"
   ]
  },
  {
   "attachments": {},
   "cell_type": "markdown",
   "metadata": {},
   "source": [
    "# Preprocessing"
   ]
  },
  {
   "cell_type": "code",
   "execution_count": 146,
   "metadata": {},
   "outputs": [
    {
     "name": "stderr",
     "output_type": "stream",
     "text": [
      "[nltk_data] Downloading package punkt to /Users/yannalin/nltk_data...\n",
      "[nltk_data]   Package punkt is already up-to-date!\n",
      "[nltk_data] Downloading package stopwords to\n",
      "[nltk_data]     /Users/yannalin/nltk_data...\n",
      "[nltk_data]   Package stopwords is already up-to-date!\n",
      "[nltk_data] Downloading package wordnet to\n",
      "[nltk_data]     /Users/yannalin/nltk_data...\n",
      "[nltk_data]   Package wordnet is already up-to-date!\n",
      "[nltk_data] Downloading package omw-1.4 to\n",
      "[nltk_data]     /Users/yannalin/nltk_data...\n",
      "[nltk_data]   Package omw-1.4 is already up-to-date!\n"
     ]
    },
    {
     "data": {
      "text/plain": [
       "True"
      ]
     },
     "execution_count": 146,
     "metadata": {},
     "output_type": "execute_result"
    }
   ],
   "source": [
    "import nltk\n",
    "import contractions\n",
    "\n",
    "from nltk.corpus import stopwords\n",
    "from nltk.stem import WordNetLemmatizer\n",
    "lemmatizer = WordNetLemmatizer()\n",
    "\n",
    "nltk.download('punkt')\n",
    "nltk.download('stopwords');\n",
    "nltk.download('wordnet')\n",
    "nltk.download('omw-1.4')"
   ]
  },
  {
   "cell_type": "code",
   "execution_count": 147,
   "metadata": {},
   "outputs": [],
   "source": [
    "def tokenize(column):\n",
    "\n",
    "    # remove '@', 'http', and contractions\n",
    "    for word in column.split():\n",
    "      if word.startswith('@'):\n",
    "        column = column.replace(word, '')\n",
    "      if word.startswith('http'):\n",
    "        column = column.replace(word, '')\n",
    "      if '\\'' in word:\n",
    "        column = column.replace(word, contractions.fix(word))\n",
    "        # print (word, '->', contractions.fix(word))\n",
    "\n",
    "    # tokenize, remove punctuation, then stem\n",
    "    tokens = nltk.word_tokenize(column)\n",
    "    expanded_tokens = []\n",
    "    i = 0\n",
    "    while i < len(tokens):\n",
    "      # if tokens[i] not in stopwords.words('english'):\n",
    "      if tokens[i].isalpha():\n",
    "        expanded_tokens.append(lemmatizer.lemmatize(tokens[i].lower()))\n",
    "      i += 1\n",
    "\n",
    "    return expanded_tokens"
   ]
  },
  {
   "cell_type": "code",
   "execution_count": 148,
   "metadata": {},
   "outputs": [
    {
     "data": {
      "text/html": [
       "<div>\n",
       "<style scoped>\n",
       "    .dataframe tbody tr th:only-of-type {\n",
       "        vertical-align: middle;\n",
       "    }\n",
       "\n",
       "    .dataframe tbody tr th {\n",
       "        vertical-align: top;\n",
       "    }\n",
       "\n",
       "    .dataframe thead th {\n",
       "        text-align: right;\n",
       "    }\n",
       "</style>\n",
       "<table border=\"1\" class=\"dataframe\">\n",
       "  <thead>\n",
       "    <tr style=\"text-align: right;\">\n",
       "      <th></th>\n",
       "      <th>Sentiment</th>\n",
       "      <th>Tokenized</th>\n",
       "    </tr>\n",
       "  </thead>\n",
       "  <tbody>\n",
       "    <tr>\n",
       "      <th>0</th>\n",
       "      <td>0</td>\n",
       "      <td>[awww, that, is, a, bummer, you, shoulda, got,...</td>\n",
       "    </tr>\n",
       "    <tr>\n",
       "      <th>1</th>\n",
       "      <td>0</td>\n",
       "      <td>[is, upset, that, he, can, not, update, his, f...</td>\n",
       "    </tr>\n",
       "    <tr>\n",
       "      <th>2</th>\n",
       "      <td>0</td>\n",
       "      <td>[i, dived, many, time, for, the, ball, managed...</td>\n",
       "    </tr>\n",
       "    <tr>\n",
       "      <th>3</th>\n",
       "      <td>0</td>\n",
       "      <td>[my, whole, body, feel, itchy, and, like, it, ...</td>\n",
       "    </tr>\n",
       "    <tr>\n",
       "      <th>4</th>\n",
       "      <td>0</td>\n",
       "      <td>[no, it, is, not, behaving, at, all, i, am, ma...</td>\n",
       "    </tr>\n",
       "  </tbody>\n",
       "</table>\n",
       "</div>"
      ],
      "text/plain": [
       "   Sentiment                                          Tokenized\n",
       "0          0  [awww, that, is, a, bummer, you, shoulda, got,...\n",
       "1          0  [is, upset, that, he, can, not, update, his, f...\n",
       "2          0  [i, dived, many, time, for, the, ball, managed...\n",
       "3          0  [my, whole, body, feel, itchy, and, like, it, ...\n",
       "4          0  [no, it, is, not, behaving, at, all, i, am, ma..."
      ]
     },
     "execution_count": 148,
     "metadata": {},
     "output_type": "execute_result"
    }
   ],
   "source": [
    "df['Tokenized'] = df.apply(lambda x: tokenize(x['Text']), axis=1)\n",
    "df[['Sentiment','Tokenized']].head()"
   ]
  },
  {
   "cell_type": "markdown",
   "metadata": {},
   "source": []
  },
  {
   "cell_type": "code",
   "execution_count": null,
   "metadata": {},
   "outputs": [],
   "source": []
  }
 ],
 "metadata": {
  "kernelspec": {
   "display_name": "myenv",
   "language": "python",
   "name": "python3"
  },
  "language_info": {
   "codemirror_mode": {
    "name": "ipython",
    "version": 3
   },
   "file_extension": ".py",
   "mimetype": "text/x-python",
   "name": "python",
   "nbconvert_exporter": "python",
   "pygments_lexer": "ipython3",
   "version": "3.9.16"
  },
  "orig_nbformat": 4
 },
 "nbformat": 4,
 "nbformat_minor": 2
}
